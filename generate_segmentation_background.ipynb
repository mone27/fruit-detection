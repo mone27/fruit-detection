{
 "cells": [
  {
   "cell_type": "code",
   "execution_count": 2,
   "metadata": {},
   "outputs": [],
   "source": [
    "%matplotlib inline\n",
    "import numpy as np\n",
    "from pathlib import Path\n",
    "import matplotlib.pyplot as plt\n",
    "from typing import Union\n",
    "from math import ceil\n",
    "plt.rcParams[\"figure.figsize\"] = [10,10]\n",
    "from fastai.vision import *\n",
    "from itertools import product"
   ]
  },
  {
   "cell_type": "code",
   "execution_count": 3,
   "metadata": {},
   "outputs": [],
   "source": [
    "out_dir = Path(\"dataset_segmentation/custom_bg\")\n",
    "imgs_dir = Path(\"dataset_segmentation/images\")\n",
    "masks_dir = Path(\"dataset_segmentation/labels\")\n",
    "bg_dir = Path(\"backgrounds\")"
   ]
  },
  {
   "cell_type": "code",
   "execution_count": 4,
   "metadata": {},
   "outputs": [],
   "source": [
    "def repeated_bg(bg: np.ndarray, size: Union[int,int])-> np.ndarray:\n",
    "    \"\"\"return an image of the given size with the background repeaten to fill everything\"\"\"\n",
    "    x,y = size\n",
    "    bg_x, bg_y, bg_z = bg.shape\n",
    "    nx = ceil(x / bg_x) \n",
    "    ny = ceil(y/ bg_y)\n",
    "    # 1 as last dimensiont to not repeat z axis (and keep colors compoments)\n",
    "    return np.tile(bg, (nx,ny,1))[:x,:y,:]"
   ]
  },
  {
   "cell_type": "code",
   "execution_count": 5,
   "metadata": {},
   "outputs": [],
   "source": [
    "def repeat_bg_trfs(bg: Image, size: TensorImageSize, tfms: TfmList)-> Image:\n",
    "    _, y, x= size #should be in normal or fastai style???\n",
    "    bg_z, bg_y, bg_x = bg.shape\n",
    "    nx = ceil(x / bg_x) \n",
    "    ny = ceil(y/ bg_y)\n",
    "    f_bg = torch.empty((bg_z, ny*bg_y, nx*bg_x), dtype=bg.data.dtype)\n",
    "    for ix,iy in product(range(nx),range(ny)):\n",
    "        f_bg[:, bg_y*iy:bg_y*(iy+1), bg_x*ix:bg_x*(ix+1)] = bg.apply_tfms(tfms).data\n",
    "    return Image(f_bg[:,:y,:x])"
   ]
  },
  {
   "cell_type": "code",
   "execution_count": 6,
   "metadata": {},
   "outputs": [],
   "source": [
    "def change_bg(img: Image, mask: Image, new_bg: Image)-> Image:\n",
    "    \"\"\"replace the background with the provided on img mask and new_bg must be a fastai Image object and have the same size\"\"\"\n",
    "    #convert mask to bool\n",
    "    mask = mask.data.type(torch.ByteTensor)    \n",
    "    return Image(torch.where(mask,img.data, new_bg.data))"
   ]
  },
  {
   "cell_type": "code",
   "execution_count": 97,
   "metadata": {},
   "outputs": [],
   "source": [
    "#create a new dataset with the custom background\n",
    "def get_mask(path): return masks_dir / path.name\n",
    "def gen_custom_bg_dataset(bg_path, bg_id, trfms):\n",
    "    #open bg and set up output folder\n",
    "    bg  = open_image(bg_path)\n",
    "    out_path = out_dir / bg_id\n",
    "    out_path.mkdir(parents=True, exist_ok=True)\n",
    "    for imgp in get_files(imgs_dir):\n",
    "        img = open_image(imgp)\n",
    "        mask = open_mask(get_mask(imgp), div=True)\n",
    "        new_bg = nbg = repeat_bg_trfs(bg, img.shape, trfms)\n",
    "        new_img = change_bg(img, mask, new_bg)\n",
    "        new_img.save(out_path / imgp.name)\n",
    "        print(f\"saved {imgp.name}\")"
   ]
  },
  {
   "cell_type": "code",
   "execution_count": 7,
   "metadata": {},
   "outputs": [],
   "source": [
    "bg_id = \"0000_random_rotation\"\n",
    "bgp = bg_dir/\"0000.tif\"\n",
    "trfms = get_transforms(max_rotate=90, flip_vert=True)[0]"
   ]
  },
  {
   "cell_type": "code",
   "execution_count": 9,
   "metadata": {},
   "outputs": [
    {
     "data": {
      "text/plain": [
       "[RandTransform(tfm=TfmCrop (crop_pad), kwargs={'row_pct': (0, 1), 'col_pct': (0, 1), 'padding_mode': 'reflection'}, p=1.0, resolved={}, do_run=True, is_random=True, use_on_y=True),\n",
       " RandTransform(tfm=TfmAffine (dihedral_affine), kwargs={}, p=1.0, resolved={}, do_run=True, is_random=True, use_on_y=True),\n",
       " RandTransform(tfm=TfmCoord (symmetric_warp), kwargs={'magnitude': (-0.2, 0.2)}, p=0.75, resolved={}, do_run=True, is_random=True, use_on_y=True),\n",
       " RandTransform(tfm=TfmAffine (rotate), kwargs={'degrees': (-90, 90)}, p=0.75, resolved={}, do_run=True, is_random=True, use_on_y=True),\n",
       " RandTransform(tfm=TfmAffine (zoom), kwargs={'scale': (1.0, 1.1), 'row_pct': (0, 1), 'col_pct': (0, 1)}, p=0.75, resolved={}, do_run=True, is_random=True, use_on_y=True),\n",
       " RandTransform(tfm=TfmLighting (brightness), kwargs={'change': (0.4, 0.6)}, p=0.75, resolved={}, do_run=True, is_random=True, use_on_y=True),\n",
       " RandTransform(tfm=TfmLighting (contrast), kwargs={'scale': (0.8, 1.25)}, p=0.75, resolved={}, do_run=True, is_random=True, use_on_y=True)]"
      ]
     },
     "execution_count": 9,
     "metadata": {},
     "output_type": "execute_result"
    }
   ],
   "source": [
    "trfms"
   ]
  },
  {
   "cell_type": "code",
   "execution_count": 99,
   "metadata": {},
   "outputs": [
    {
     "name": "stdout",
     "output_type": "stream",
     "text": [
      "saved lime8.png\n",
      "saved pere9.png\n",
      "saved mele9.png\n",
      "saved mele17.png\n",
      "saved patate2.png\n",
      "saved pesche1.png\n",
      "saved mele2.png\n",
      "saved pomodoro3.png\n",
      "saved carotebuccia4.png\n",
      "saved patate1.png\n",
      "saved banane5.png\n",
      "saved lime2.png\n",
      "saved cipolla14.png\n",
      "saved lime3.png\n",
      "saved lime6.png\n",
      "saved pesche5.png\n",
      "saved mele4.png\n",
      "saved prugnerosse3.png\n",
      "saved kiwi3.png\n",
      "saved carotebuccia1.png\n",
      "saved pesche6.png\n",
      "saved kiwi6.png\n",
      "saved pesche4.png\n",
      "saved cipolla11.png\n",
      "saved mele16.png\n",
      "saved carotebuccia3.png\n",
      "saved pomodoro5.png\n",
      "saved prugnerosse1.png\n",
      "saved patate5.png\n",
      "saved zucchine2.png\n",
      "saved pere11.png\n",
      "saved carota3.png\n",
      "saved kiwi8.png\n",
      "saved pomodoro2.png\n",
      "saved peperoncino1.png\n",
      "saved zucchine1.png\n",
      "saved banane4.png\n",
      "saved prugnerosse7.png\n",
      "saved pesche2.png\n",
      "saved albicocche4.png\n",
      "saved prugnerosse5.png\n",
      "saved albicocche1.png\n",
      "saved lime7.png\n",
      "saved cipolla5.png\n",
      "saved mele14.png\n",
      "saved kiwi1.png\n",
      "saved albicocche6.png\n",
      "saved mele8.png\n",
      "saved pomodoro4.png\n",
      "saved lime9.png\n",
      "saved pere3.png\n",
      "saved albicocche5.png\n",
      "saved patate8.png\n",
      "saved pomodoro1.png\n",
      "saved lime4.png\n",
      "saved kiwi4.png\n",
      "saved kiwi5.png\n",
      "saved cipolla13.png\n",
      "saved prugnerosse4.png\n",
      "saved funghi3.png\n",
      "saved funghi4.png\n",
      "saved cipolla4.png\n",
      "saved peperoncino2.png\n",
      "saved patate6.png\n",
      "saved kiwi10.png\n",
      "saved cetrioli5.png\n",
      "saved cetrioli4.png\n",
      "saved mele13.png\n",
      "saved pere8.png\n",
      "saved lime5.png\n",
      "saved pesche3.png\n",
      "saved mele6.png\n",
      "saved mele15.png\n",
      "saved funghi2.png\n",
      "saved pere4.png\n",
      "saved funghi5.png\n",
      "saved cetrioli3.png\n",
      "saved banane3.png\n",
      "saved prugnerosse2.png\n",
      "saved kiwi2.png\n",
      "saved cipolla12.png\n",
      "saved funghi1.png\n",
      "saved mele5.png\n",
      "saved lime1.png\n",
      "saved albicocche3_nonva.png\n",
      "saved cipolla7.png\n",
      "saved mele3.png\n",
      "saved pere7.png\n",
      "saved cipolla9.png\n",
      "saved pere6.png\n",
      "saved albicocche2.png\n",
      "saved patate7.png\n",
      "saved cipolla10.png\n",
      "saved kiwi7.png\n",
      "saved pere2.png\n",
      "saved pere1.png\n",
      "saved zucchine4.png\n",
      "saved cipolla2.png\n",
      "saved cetrioli2.png\n",
      "saved cipolla.png\n",
      "saved cetrioli1.png\n",
      "saved mele12.png\n",
      "saved zucchine5.png\n",
      "saved carota1.png\n",
      "saved carote5.png\n",
      "saved funghi6.png\n",
      "saved pere10.png\n",
      "saved cipolla6.png\n",
      "saved pere5.png\n",
      "saved pesche7.png\n",
      "saved cipolla3.png\n",
      "saved mele1.png\n",
      "saved prugnerosse6.png\n",
      "saved carotebuccia2.png\n",
      "saved patate4.png\n",
      "saved carote4.png\n",
      "saved pere12.png\n",
      "saved mele11.png\n",
      "saved carotebuccia5.png\n",
      "saved patate3.png\n",
      "saved zucchine3.png\n",
      "saved banane2.png\n",
      "saved carota2.png\n",
      "saved banana1.png\n",
      "saved cipolla8.png\n",
      "saved mele10.png\n",
      "saved mele7.png\n",
      "saved kiwi9.png\n"
     ]
    }
   ],
   "source": [
    "gen_custom_bg_dataset(bgp, bg_id, trfms)"
   ]
  },
  {
   "cell_type": "markdown",
   "metadata": {},
   "source": [
    "testing and experiments"
   ]
  },
  {
   "cell_type": "code",
   "execution_count": 27,
   "metadata": {},
   "outputs": [],
   "source": [
    "imgp = imgs_dir / \"albicocche1.png\"\n",
    "maskp = masks_dir / \"albicocche1.png\"\n",
    "bgp = bg_dir/\"0000.tif\""
   ]
  },
  {
   "cell_type": "code",
   "execution_count": 48,
   "metadata": {},
   "outputs": [],
   "source": [
    "img = open_image(imgp)\n",
    "mask = open_mask(maskp, div=True)\n",
    "bg = open_image(bgp)"
   ]
  },
  {
   "cell_type": "code",
   "execution_count": null,
   "metadata": {},
   "outputs": [],
   "source": [
    "nbg = repeat_bg_trfs(bg, img.shape, get_transforms(max_rotate=90, flip_vert=True)[0])"
   ]
  },
  {
   "cell_type": "code",
   "execution_count": null,
   "metadata": {},
   "outputs": [],
   "source": [
    "new_img = change_bg(img, mask, nbg)\n",
    "new_img.show(figsize=(10,10))"
   ]
  },
  {
   "cell_type": "code",
   "execution_count": null,
   "metadata": {},
   "outputs": [],
   "source": [
    "repeat_bg_trfs(bg, img.shape, [rotate(degrees=(-180,180), p=1)])"
   ]
  },
  {
   "cell_type": "code",
   "execution_count": 64,
   "metadata": {},
   "outputs": [
    {
     "name": "stdout",
     "output_type": "stream",
     "text": [
      "34.8 ms ± 1.91 ms per loop (mean ± std. dev. of 7 runs, 10 loops each)\n"
     ]
    }
   ],
   "source": [
    "%timeit change_bg(img, mask, nbg) #using torch.where"
   ]
  },
  {
   "cell_type": "code",
   "execution_count": null,
   "metadata": {},
   "outputs": [],
   "source": [
    "repeat_bg_trfs(bg, img.shape, get_transforms(max_rotate=90, flip_vert=True)[0])"
   ]
  },
  {
   "cell_type": "code",
   "execution_count": 74,
   "metadata": {},
   "outputs": [
    {
     "name": "stdout",
     "output_type": "stream",
     "text": [
      "1.3 s ± 19.7 ms per loop (mean ± std. dev. of 7 runs, 1 loop each)\n"
     ]
    }
   ],
   "source": [
    "%timeit nbg = repeat_bg_trfs(bg, img.shape, get_transforms(max_rotate=90, flip_vert=True)[0])"
   ]
  },
  {
   "cell_type": "code",
   "execution_count": null,
   "metadata": {},
   "outputs": [],
   "source": []
  }
 ],
 "metadata": {
  "kernelspec": {
   "display_name": "Python 3",
   "language": "python",
   "name": "python3"
  },
  "language_info": {
   "codemirror_mode": {
    "name": "ipython",
    "version": 3
   },
   "file_extension": ".py",
   "mimetype": "text/x-python",
   "name": "python",
   "nbconvert_exporter": "python",
   "pygments_lexer": "ipython3",
   "version": "3.7.4"
  }
 },
 "nbformat": 4,
 "nbformat_minor": 4
}
