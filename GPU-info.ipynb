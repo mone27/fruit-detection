{
 "cells": [
  {
   "cell_type": "code",
   "execution_count": 3,
   "metadata": {},
   "outputs": [],
   "source": [
    "import torch"
   ]
  },
  {
   "cell_type": "code",
   "execution_count": 4,
   "metadata": {},
   "outputs": [
    {
     "data": {
      "text/plain": [
       "'Tesla K20c'"
      ]
     },
     "execution_count": 4,
     "metadata": {},
     "output_type": "execute_result"
    }
   ],
   "source": [
    "torch.cuda.get_device_name(0)"
   ]
  },
  {
   "cell_type": "code",
   "execution_count": 3,
   "metadata": {},
   "outputs": [],
   "source": [
    "t = torch.zeros(10)"
   ]
  },
  {
   "cell_type": "code",
   "execution_count": 4,
   "metadata": {},
   "outputs": [
    {
     "data": {
      "text/plain": [
       "tensor([0., 0., 0., 0., 0., 0., 0., 0., 0., 0.], device='cuda:0')"
      ]
     },
     "execution_count": 4,
     "metadata": {},
     "output_type": "execute_result"
    }
   ],
   "source": [
    "t.cuda()"
   ]
  },
  {
   "cell_type": "code",
   "execution_count": 2,
   "metadata": {},
   "outputs": [
    {
     "name": "stdout",
     "output_type": "stream",
     "text": [
      "Thu Mar 12 09:27:56 2020       \n",
      "+-----------------------------------------------------------------------------+\n",
      "| NVIDIA-SMI 418.40.04    Driver Version: 418.40.04    CUDA Version: 10.1     |\n",
      "|-------------------------------+----------------------+----------------------+\n",
      "| GPU  Name        Persistence-M| Bus-Id        Disp.A | Volatile Uncorr. ECC |\n",
      "| Fan  Temp  Perf  Pwr:Usage/Cap|         Memory-Usage | GPU-Util  Compute M. |\n",
      "|===============================+======================+======================|\n",
      "|   0  Tesla K20c          Off  | 00000000:0B:00.0 Off |                    0 |\n",
      "| 30%   37C    P0   143W / 225W |   4692MiB /  4743MiB |    100%      Default |\n",
      "+-------------------------------+----------------------+----------------------+\n",
      "                                                                               \n",
      "+-----------------------------------------------------------------------------+\n",
      "| Processes:                                                       GPU Memory |\n",
      "|  GPU       PID   Type   Process name                             Usage      |\n",
      "|=============================================================================|\n",
      "+-----------------------------------------------------------------------------+\n"
     ]
    }
   ],
   "source": [
    "!nvidia-smi"
   ]
  },
  {
   "cell_type": "code",
   "execution_count": 6,
   "metadata": {},
   "outputs": [
    {
     "name": "stdout",
     "output_type": "stream",
     "text": [
      "# packages in environment at /opt/miniconda/envs/fastai:\n",
      "#\n",
      "# Name                    Version                   Build  Channel\n",
      "_libgcc_mutex             0.1                        main  \n",
      "asn1crypto                0.24.0                   py37_0  \n",
      "attrs                     19.2.0                     py_0    conda-forge\n",
      "backcall                  0.1.0                      py_0    conda-forge\n",
      "beautifulsoup4            4.8.0                    py37_0  \n",
      "blas                      1.0                         mkl  \n",
      "bleach                    3.1.0                      py_0    conda-forge\n",
      "bottleneck                1.2.1            py37h035aef0_1  \n",
      "ca-certificates           2019.8.28                     0  \n",
      "certifi                   2019.9.11                py37_0  \n",
      "cffi                      1.12.3           py37h2e261b9_0  \n",
      "chardet                   3.0.4                 py37_1003  \n",
      "cryptography              2.7              py37h1ba5d50_0  \n",
      "cudatoolkit               10.0.130                      0  \n",
      "cycler                    0.10.0                   py37_0  \n",
      "cymem                     2.0.2            py37he1b5a44_0    fastai\n",
      "cython-blis               0.2.4            py37h516909a_1    fastai\n",
      "dataclasses               0.6                        py_0    fastai\n",
      "dbus                      1.13.6               h746ee38_0  \n",
      "decorator                 4.4.0                      py_0    conda-forge\n",
      "defusedxml                0.6.0                      py_0    conda-forge\n",
      "entrypoints               0.3                   py37_1000    conda-forge\n",
      "expat                     2.2.6                he6710b0_0  \n",
      "fastai                    1.0.58                        1    fastai\n",
      "fastprogress              0.1.21                     py_0    fastai\n",
      "fontconfig                2.13.0               h9420a91_0  \n",
      "freetype                  2.9.1                h8a8886c_1  \n",
      "glib                      2.56.2               hd408876_0  \n",
      "gst-plugins-base          1.14.0               hbbd80ab_1  \n",
      "gstreamer                 1.14.0               hb453b48_1  \n",
      "icu                       58.2                 h9c2bf20_1  \n",
      "idna                      2.8                      py37_0  \n",
      "intel-openmp              2019.4                      243  \n",
      "ipykernel                 5.1.2            py37h5ca1d4c_0    conda-forge\n",
      "ipython                   7.8.0            py37h5ca1d4c_0    conda-forge\n",
      "ipython_genutils          0.2.0                      py_1    conda-forge\n",
      "ipywidgets                7.5.1                      py_0  \n",
      "jedi                      0.15.1                   py37_0    conda-forge\n",
      "jinja2                    2.10.1                     py_0    conda-forge\n",
      "jpeg                      9b                   h024ee3a_2  \n",
      "json5                     0.8.5                      py_0    conda-forge\n",
      "jsonschema                3.0.2                    py37_0    conda-forge\n",
      "jupyter_client            5.3.3                    py37_1    conda-forge\n",
      "jupyter_core              4.4.0                      py_0    conda-forge\n",
      "jupyterlab                1.1.4                      py_0    conda-forge\n",
      "jupyterlab_server         1.0.6                      py_0    conda-forge\n",
      "kiwisolver                1.1.0            py37he6710b0_0  \n",
      "libedit                   3.1.20181209         hc058e9b_0  \n",
      "libffi                    3.2.1                hd88cf55_4  \n",
      "libgcc-ng                 9.1.0                hdf63c60_0  \n",
      "libgfortran-ng            7.3.0                hdf63c60_0  \n",
      "libpng                    1.6.37               hbc83047_0  \n",
      "libsodium                 1.0.17               h516909a_0    conda-forge\n",
      "libstdcxx-ng              9.1.0                hdf63c60_0  \n",
      "libtiff                   4.0.10               h2733197_2  \n",
      "libuuid                   1.0.3                h1bed415_2  \n",
      "libxcb                    1.13                 h1bed415_1  \n",
      "libxml2                   2.9.9                hea5a465_1  \n",
      "markupsafe                1.1.1            py37h14c3975_0    conda-forge\n",
      "matplotlib                3.1.1            py37h5429711_0  \n",
      "mistune                   0.8.4           py37h14c3975_1000    conda-forge\n",
      "mkl                       2019.4                      243  \n",
      "mkl-service               2.3.0            py37he904b0f_0  \n",
      "mkl_fft                   1.0.14           py37ha843d7b_0  \n",
      "mkl_random                1.1.0            py37hd6b4f25_0  \n",
      "murmurhash                1.0.2            py37he6710b0_0  \n",
      "nbconvert                 5.6.0                    py37_1    conda-forge\n",
      "nbformat                  4.4.0                      py_1    conda-forge\n",
      "ncurses                   6.1                  he6710b0_1  \n",
      "ninja                     1.9.0            py37hfd86e86_0  \n",
      "notebook                  6.0.1                    py37_0    conda-forge\n",
      "numexpr                   2.7.0            py37h9e4a6bb_0  \n",
      "numpy                     1.17.2           py37haad9e8e_0  \n",
      "numpy-base                1.17.2           py37hde5b4d6_0  \n",
      "nvidia-ml-py3             7.352.0                    py_0    fastai\n",
      "olefile                   0.46                     py37_0  \n",
      "openssl                   1.1.1d               h7b6447c_2  \n",
      "packaging                 19.2                       py_0  \n",
      "pandas                    0.25.1           py37he6710b0_0  \n",
      "pandoc                    2.7.3                         0    conda-forge\n",
      "pandocfilters             1.4.2                      py_1    conda-forge\n",
      "parso                     0.5.1                      py_0    conda-forge\n",
      "pcre                      8.43                 he6710b0_0  \n",
      "pexpect                   4.7.0                    py37_0    conda-forge\n",
      "pickleshare               0.7.5                 py37_1000    conda-forge\n",
      "pillow                    6.1.0            py37h34e0f95_0  \n",
      "pip                       19.2.3                   py37_0  \n",
      "plac                      0.9.6                    py37_0  \n",
      "preshed                   2.0.1            py37he6710b0_0  \n",
      "prometheus_client         0.7.1                      py_0    conda-forge\n",
      "prompt_toolkit            2.0.9                      py_0    conda-forge\n",
      "ptyprocess                0.6.0                   py_1001    conda-forge\n",
      "pycparser                 2.19                     py37_0  \n",
      "pygments                  2.4.2                      py_0    conda-forge\n",
      "pyopenssl                 19.0.0                   py37_0  \n",
      "pyparsing                 2.4.2                      py_0  \n",
      "pyqt                      5.9.2            py37h05f1152_2  \n",
      "pyrsistent                0.15.4           py37h516909a_0    conda-forge\n",
      "pysocks                   1.7.1                    py37_0  \n",
      "python                    3.7.4                h265db76_1  \n",
      "python-dateutil           2.8.0                      py_0    conda-forge\n",
      "pytorch                   1.2.0           py3.7_cuda10.0.130_cudnn7.6.2_0    pytorch\n",
      "pytz                      2019.2                     py_0  \n",
      "pyyaml                    5.1.2            py37h7b6447c_0  \n",
      "pyzmq                     18.1.0           py37h1768529_0    conda-forge\n",
      "qt                        5.9.7                h5867ecd_1  \n",
      "readline                  7.0                  h7b6447c_5  \n",
      "requests                  2.22.0                   py37_0  \n",
      "scipy                     1.3.1            py37h7c811a0_0  \n",
      "send2trash                1.5.0                      py_0    conda-forge\n",
      "setuptools                41.2.0                   py37_0  \n",
      "sip                       4.19.8           py37hf484d3e_0  \n",
      "six                       1.12.0                   py37_0  \n",
      "soupsieve                 1.9.3                    py37_0  \n",
      "spacy                     2.1.8            py37hc9558a2_0    fastai\n",
      "sqlite                    3.29.0               h7b6447c_0  \n",
      "srsly                     0.1.0            py37he1b5a44_0    fastai\n",
      "terminado                 0.8.2                    py37_0    conda-forge\n",
      "testpath                  0.4.2                   py_1001    conda-forge\n",
      "thinc                     7.0.8            py37hc9558a2_0    fastai\n",
      "tk                        8.6.8                hbc83047_0  \n",
      "torchvision               0.4.0                py37_cu100    pytorch\n",
      "tornado                   6.0.3            py37h516909a_0    conda-forge\n",
      "tqdm                      4.36.1                     py_0  \n",
      "traitlets                 4.3.2                 py37_1000    conda-forge\n",
      "urllib3                   1.24.2                   py37_0  \n",
      "wasabi                    0.2.2                      py_0    fastai\n",
      "wcwidth                   0.1.7                      py_1    conda-forge\n",
      "webencodings              0.5.1                      py_1    conda-forge\n",
      "wheel                     0.33.6                   py37_0  \n",
      "widgetsnbextension        3.5.1                    py37_0  \n",
      "xz                        5.2.4                h14c3975_4  \n",
      "yaml                      0.1.7                had09818_2  \n",
      "zeromq                    4.3.2                he1b5a44_2    conda-forge\n",
      "zlib                      1.2.11               h7b6447c_3  \n",
      "zstd                      1.3.7                h0b5b093_0  \n"
     ]
    }
   ],
   "source": [
    "!conda list"
   ]
  },
  {
   "cell_type": "code",
   "execution_count": null,
   "metadata": {},
   "outputs": [],
   "source": []
  }
 ],
 "metadata": {
  "kernelspec": {
   "display_name": "Python 3",
   "language": "python",
   "name": "python3"
  },
  "language_info": {
   "codemirror_mode": {
    "name": "ipython",
    "version": 3
   },
   "file_extension": ".py",
   "mimetype": "text/x-python",
   "name": "python",
   "nbconvert_exporter": "python",
   "pygments_lexer": "ipython3",
   "version": "3.7.4"
  }
 },
 "nbformat": 4,
 "nbformat_minor": 4
}
