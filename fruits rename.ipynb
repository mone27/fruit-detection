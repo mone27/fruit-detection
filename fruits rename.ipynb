{
 "cells": [
  {
   "cell_type": "code",
   "execution_count": 34,
   "metadata": {},
   "outputs": [],
   "source": [
    "from pathlib import Path\n",
    "import re"
   ]
  },
  {
   "cell_type": "code",
   "execution_count": 142,
   "metadata": {},
   "outputs": [],
   "source": [
    "mappings_raw = \"\"\"albicocche\tApricot\n",
    "albicocca\tApricot\n",
    "banane\tBanana\n",
    "carote\tCarrot\n",
    "carotebuccia\tCarrot\n",
    "cetrioli\tCucumber\n",
    "cetriolo\tCucumber\n",
    "cipolla\tOnion\n",
    "funghi\tMushroom\n",
    "champignon\tMushroom\n",
    "kiwi\tKiwifruit\n",
    "lime\tLime\n",
    "mele\tApple\n",
    "mela\tApple\n",
    "patate\tPotato\n",
    "patata\tPotato\n",
    "ciliegia\tCherry\n",
    "ciliegie\tCherry\n",
    "peperoncino\tChili Pepper\n",
    "pere\tPear\n",
    "pera\tPear\n",
    "pesche\tPeach\n",
    "pesca\tPeach\n",
    "pomodoro\tTomato\n",
    "pomodoro_sanmarzano\tTomato\n",
    "pomodorisan\tTomato\n",
    "pomodoro_ciliegino\tCherry Tomato\n",
    "prugnerosse\tPlum\n",
    "prugnarossa\tPlum\n",
    "zucchine\tZucchini\n",
    "zucchino\tZucchini\n",
    "banana\tBanana\n",
    "carota\tCarrot\"\"\".split(\"\\n\")"
   ]
  },
  {
   "cell_type": "code",
   "execution_count": 143,
   "metadata": {},
   "outputs": [],
   "source": [
    "mappings = dict([x.split(\"\\t\") for x in mappings_raw])"
   ]
  },
  {
   "cell_type": "code",
   "execution_count": 120,
   "metadata": {},
   "outputs": [
    {
     "data": {
      "text/plain": [
       "'Onion'"
      ]
     },
     "execution_count": 120,
     "metadata": {},
     "output_type": "execute_result"
    }
   ],
   "source": [
    "mappings['cipolla']"
   ]
  },
  {
   "cell_type": "code",
   "execution_count": 144,
   "metadata": {},
   "outputs": [
    {
     "name": "stdout",
     "output_type": "stream",
     "text": [
      "Dataset/Zucchini\n",
      "Zucchini3.tif\n",
      "Zucchini2.tif\n",
      "Zucchini1.tif\n",
      "Zucchini4.tif\n",
      "Zucchini5.tif\n",
      "Zucchini\n",
      "Dataset/Kiwifruit\n",
      "Kiwifruit7.tif\n",
      "Kiwifruit5.tif\n",
      "Kiwifruit9.tif\n",
      "Kiwifruit2.tif\n",
      "Kiwifruit1.tif\n",
      "Kiwifruit6.tif\n",
      "Kiwifruit10.tif\n",
      "Kiwifruit3.tif\n",
      "Kiwifruit8.tif\n",
      "Kiwifruit4.tif\n",
      "Kiwifruit\n",
      "Dataset/Lime\n",
      "Lime7.tif\n",
      "Lime4.tif\n",
      "Lime2.tif\n",
      "Lime8.tif\n",
      "Lime5.tif\n",
      "Lime3.tif\n",
      "Lime1.tif\n",
      "Lime6.tif\n",
      "Lime9.tif\n",
      "Lime\n",
      "Dataset/Apple\n",
      "Apple15.tif\n",
      "Apple14.tif\n",
      "Apple2.tif\n",
      "Apple11.tif\n",
      "Apple4.tif\n",
      "Apple17.tif\n",
      "Apple7.tif\n",
      "Apple6.tif\n",
      "Apple12.tif\n",
      "Apple16.tif\n",
      "Apple10.tif\n",
      "Apple3.tif\n",
      "Apple5.tif\n",
      "Apple9.tif\n",
      "Apple1.tif\n",
      "Apple8.tif\n",
      "Apple13.tif\n",
      "Apple\n",
      "Dataset/Cucumber\n",
      "Cucumber4.tif\n",
      "Cucumber2.tif\n",
      "Cucumber3.tif\n",
      "Cucumber5.tif\n",
      "Cucumber1.tif\n",
      "Cucumber\n",
      "Dataset/Plum\n",
      "Plum2.tif\n",
      "Plum7.tif\n",
      "Plum3.tif\n",
      "Plum1.tif\n",
      "Plum5.tif\n",
      "Plum6.tif\n",
      "Plum4.tif\n",
      "Plum\n",
      "Dataset/Peach\n",
      "Peach5.tif\n",
      "Peach2.tif\n",
      "Peach4.tif\n",
      "Peach6.tif\n",
      "Peach7.tif\n",
      "Peach1.tif\n",
      "Peach3.tif\n",
      "Peach\n",
      "Dataset/Cherry\n",
      "Cherry3.tif\n",
      "Cherry4.tif\n",
      "Cherry2.tif\n",
      "Cherry1.tif\n",
      "Cherry\n",
      "Dataset/Potato\n",
      "Potato8.tif\n",
      "Potato1.tif\n",
      "Potato5.tif\n",
      "Potato3.tif\n",
      "Potato4.tif\n",
      "Potato2.tif\n",
      "Potato7.tif\n",
      "Potato6.tif\n",
      "Potato\n",
      "Dataset/Apricot\n",
      "Apricot4.tif\n",
      "Apricot5.tif\n",
      "Apricot2.tif\n",
      "Apricot1.tif\n",
      "Apricot6.tif\n",
      "Apricot3.tif\n",
      "Apricot\n",
      "Dataset/Tomato\n",
      "Tomato7.tif\n",
      "Tomato2.tif\n",
      "Tomato3.tif\n",
      "Tomato6.tif\n",
      "Tomato4.tif\n",
      "Tomato5.tif\n",
      "Tomato1.tif\n",
      "Tomato\n",
      "Dataset/Cherry Tomato\n",
      "Tomato2.tif\n",
      "Tomato3.tif\n",
      "Tomato4.tif\n",
      "Tomato5.tif\n",
      "Tomato1.tif\n",
      "Cherry Tomato\n",
      "Dataset/Banana\n",
      "Banana4.tif\n",
      "Banana5.tif\n",
      "Banana1.tif\n",
      "Banana2.tif\n",
      "Banana3.tif\n",
      "Banana\n",
      "Dataset/Carrot\n",
      "Carrot2.tif\n",
      "Carrot1.tif\n",
      "Carrot3.tif\n",
      "Carrot5.tif\n",
      "Carrot4.tif\n",
      "Carrot\n",
      "Dataset/Chili Pepper\n",
      "Chili Pepper2.tif\n",
      "Chili Pepper1.tif\n",
      "Chili Pepper\n",
      "Dataset/Onion\n",
      "Onion10.tif\n",
      "Onion8.tif\n",
      "Onion11.tif\n",
      "Onion7.tif\n",
      "Onion4.tif\n",
      "Onion14.tif\n",
      "Onion6.tif\n",
      "Onion9.tif\n",
      "Onion13.tif\n",
      "Onion3.tif\n",
      "Onion2.tif\n",
      "Onion12.tif\n",
      "Onion5.tif\n",
      "Onion\n",
      "Dataset/Pear\n",
      "Pear11.tif\n",
      "Pear5.tif\n",
      "Pear1.tif\n",
      "Pear12.tif\n",
      "Pear8.tif\n",
      "Pear6.tif\n",
      "Pear10.tif\n",
      "Pear4.tif\n",
      "Pear2.tif\n",
      "Pear3.tif\n",
      "Pear7.tif\n",
      "Pear9.tif\n",
      "Pear\n",
      "Dataset/.ipynb_checkpoints\n",
      "Dataset/Champignon\n",
      "Mushroom2.tif\n",
      "Mushroom5.tif\n",
      "Mushroom4.tif\n",
      "Mushroom6.tif\n",
      "Mushroom1.tif\n",
      "Mushroom3.tif\n",
      "Champignon\n",
      "changed from Champignon to Mushroom\n"
     ]
    }
   ],
   "source": [
    "rename_folder(folder)"
   ]
  },
  {
   "cell_type": "code",
   "execution_count": 113,
   "metadata": {},
   "outputs": [],
   "source": [
    "folder = Path(\"Dataset\")"
   ]
  },
  {
   "cell_type": "code",
   "execution_count": 130,
   "metadata": {},
   "outputs": [],
   "source": [
    "def rename(path):\n",
    "    print(path.name)\n",
    "    old = re.match(r\"([A-z ]+)\", path.name).group(0)\n",
    "    if  path.suffix not in {\".tif\", \"\"} :\n",
    "        print(\"removing .tif\")\n",
    "        path.rename(path.parent/(path.stem+\".tif\"))\n",
    "    if not old in mappings.values():\n",
    "        new = path.name.replace(old, mappings[old.lower()])\n",
    "        print(f\"changed from {old} to {new}\")\n",
    "        path.rename(path.parent / new)\n"
   ]
  },
  {
   "cell_type": "code",
   "execution_count": 140,
   "metadata": {},
   "outputs": [],
   "source": [
    "def rename_folder(folder):\n",
    "    for f in folder.iterdir():\n",
    "        print(f)\n",
    "        if f.name.startswith(\".\"): continue\n",
    "        if f.is_dir():\n",
    "            for ff in f.iterdir():\n",
    "                if not ff.is_dir(): rename(ff)\n",
    "        rename(f)"
   ]
  },
  {
   "cell_type": "code",
   "execution_count": 139,
   "metadata": {},
   "outputs": [
    {
     "data": {
      "text/plain": [
       "[PosixPath('Dataset/Zucchini'),\n",
       " PosixPath('Dataset/Lime'),\n",
       " PosixPath('Dataset/Apple'),\n",
       " PosixPath('Dataset/Cucumber'),\n",
       " PosixPath('Dataset/Plum'),\n",
       " PosixPath('Dataset/Peach'),\n",
       " PosixPath('Dataset/Cherry'),\n",
       " PosixPath('Dataset/Potato'),\n",
       " PosixPath('Dataset/Apricot'),\n",
       " PosixPath('Dataset/Tomato'),\n",
       " PosixPath('Dataset/Cherry Tomato'),\n",
       " PosixPath('Dataset/Banana'),\n",
       " PosixPath('Dataset/Carrot'),\n",
       " PosixPath('Dataset/Chili Pepper'),\n",
       " PosixPath('Dataset/Onion'),\n",
       " PosixPath('Dataset/Pear'),\n",
       " PosixPath('Dataset/.ipynb_checkpoints'),\n",
       " PosixPath('Dataset/Kiwi'),\n",
       " PosixPath('Dataset/Champignon')]"
      ]
     },
     "execution_count": 139,
     "metadata": {},
     "output_type": "execute_result"
    }
   ],
   "source": [
    "list(folder.iterdir())"
   ]
  },
  {
   "cell_type": "code",
   "execution_count": 128,
   "metadata": {},
   "outputs": [
    {
     "data": {
      "text/plain": [
       "'ciao233.ciao'"
      ]
     },
     "execution_count": 128,
     "metadata": {},
     "output_type": "execute_result"
    }
   ],
   "source": [
    "re.sub(r\"([A-z]+)\", \"ciao\", \"nome233.tex\")"
   ]
  },
  {
   "cell_type": "code",
   "execution_count": 103,
   "metadata": {},
   "outputs": [
    {
     "data": {
      "text/plain": [
       "''"
      ]
     },
     "execution_count": 103,
     "metadata": {},
     "output_type": "execute_result"
    }
   ],
   "source": [
    "folder.suffix"
   ]
  },
  {
   "cell_type": "code",
   "execution_count": null,
   "metadata": {},
   "outputs": [],
   "source": []
  }
 ],
 "metadata": {
  "kernelspec": {
   "display_name": "Python 3",
   "language": "python",
   "name": "python3"
  },
  "language_info": {
   "codemirror_mode": {
    "name": "ipython",
    "version": 3
   },
   "file_extension": ".py",
   "mimetype": "text/x-python",
   "name": "python",
   "nbconvert_exporter": "python",
   "pygments_lexer": "ipython3",
   "version": "3.7.4"
  }
 },
 "nbformat": 4,
 "nbformat_minor": 4
}
