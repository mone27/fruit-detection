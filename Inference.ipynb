{
 "cells": [
  {
   "cell_type": "code",
   "execution_count": 5,
   "metadata": {},
   "outputs": [],
   "source": [
    "%reload_ext autoreload\n",
    "%autoreload 2\n",
    "%matplotlib inline"
   ]
  },
  {
   "cell_type": "code",
   "execution_count": 19,
   "metadata": {},
   "outputs": [],
   "source": [
    "from fastai.vision import *\n",
    "from semantic_segmentation_tile import *\n",
    "from classic_segmentation import ImageDivider\n",
    "from ipywidgets import interact\n",
    "import matplotlib\n",
    "matplotlib.rcParams['figure.figsize'] = (20,16)"
   ]
  },
  {
   "cell_type": "markdown",
   "metadata": {},
   "source": [
    "Load pretrained models"
   ]
  },
  {
   "cell_type": "code",
   "execution_count": 28,
   "metadata": {},
   "outputs": [],
   "source": [
    "segment = SegmentationTilePredictor(\"models\", \"segmentation_resnet18_10_sept_2020.pkl\", (233, 205), scale=2)"
   ]
  },
  {
   "cell_type": "code",
   "execution_count": 8,
   "metadata": {},
   "outputs": [],
   "source": [
    "#load trained model\n",
    "classify = load_learner(\"models\", \"Classification_resnet18_10_sept_2020.pkl\")"
   ]
  },
  {
   "cell_type": "markdown",
   "metadata": {},
   "source": [
    "Function for making predictions"
   ]
  },
  {
   "cell_type": "code",
   "execution_count": 57,
   "metadata": {},
   "outputs": [],
   "source": [
    "colors = ['purple', 'yellow']\n",
    "cm = matplotlib.colors.LinearSegmentedColormap.from_list(\n",
    "        \"mask\", colors, N=2)"
   ]
  },
  {
   "cell_type": "code",
   "execution_count": 58,
   "metadata": {},
   "outputs": [],
   "source": [
    "def predict(img_path):\n",
    "    pred_mask, img = segment.predict_mask(img_path)\n",
    "    imgs = ImageDivider.from_fastai(img, pred_mask, clean_mask=True).images()\n",
    "    preds = pd.DataFrame([classify.predict(Image(pil2tensor(img / 255, np.float32))) for img in imgs], columns=['fruit', 'label', 'p'])\n",
    "    p = preds.p.apply(max).mean()\n",
    "    fruit = preds.fruit.mode().item()\n",
    "    print(f\"the selected image contains {len(imgs)} of {fruit} correctly classified with a probability of {round(p*100, 1)}%\")\n",
    "    fig, axes = plt.subplots(1,2)\n",
    "    img.show(ax=axes[0], title=\"original image\")\n",
    "    pred_mask.show(ax=axes[1], title='predicted mask', cmap=cm)\n",
    "    "
   ]
  },
  {
   "cell_type": "code",
   "execution_count": 59,
   "metadata": {},
   "outputs": [
    {
     "data": {
      "application/vnd.jupyter.widget-view+json": {
       "model_id": "6c53d4aab4164738a9877ac8fa5052d3",
       "version_major": 2,
       "version_minor": 0
      },
      "text/plain": [
       "interactive(children=(Dropdown(description='img_path', options=(PosixPath('dataset_segmentation/images/Banana4…"
      ]
     },
     "metadata": {},
     "output_type": "display_data"
    }
   ],
   "source": [
    "interact(predict, img_path=get_image_files(\"dataset_segmentation/images\"));"
   ]
  },
  {
   "cell_type": "code",
   "execution_count": null,
   "metadata": {},
   "outputs": [],
   "source": []
  }
 ],
 "metadata": {
  "kernelspec": {
   "display_name": "Python [conda env:fruit-detection]",
   "language": "python",
   "name": "conda-env-fruit-detection-py"
  },
  "language_info": {
   "codemirror_mode": {
    "name": "ipython",
    "version": 3
   },
   "file_extension": ".py",
   "mimetype": "text/x-python",
   "name": "python",
   "nbconvert_exporter": "python",
   "pygments_lexer": "ipython3",
   "version": "3.8.5"
  }
 },
 "nbformat": 4,
 "nbformat_minor": 4
}
