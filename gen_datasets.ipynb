{
 "cells": [
  {
   "cell_type": "code",
   "execution_count": 24,
   "metadata": {},
   "outputs": [],
   "source": [
    "%reload_ext autoreload\n",
    "%autoreload 2"
   ]
  },
  {
   "cell_type": "code",
   "execution_count": 26,
   "metadata": {},
   "outputs": [],
   "source": [
    "from pathlib import Path\n",
    "import cv2\n",
    "import matplotlib.pyplot as plt\n",
    "from classic_segmentation import ClassicSegmentation, ImageDivider, open_cv_image, save_cv_image\n",
    "from utils import save_image, random_label_probability\n",
    "import random"
   ]
  },
  {
   "cell_type": "code",
   "execution_count": 27,
   "metadata": {},
   "outputs": [],
   "source": [
    "root_folder = Path(\"Dataset\")\n",
    "ext = '.tif'  # source file extention\n",
    "ext_save = '.png'  # save file extention\n",
    "root_folder_save_class = Path('dataset_classification')\n",
    "folder_save_segm = Path('dataset_segmentation')\n",
    "segm_images = folder_save_segm / \"images\"; segm_images.mkdir(parents=True, exist_ok=True)\n",
    "segm_labels = folder_save_segm / \"labels\"; segm_labels.mkdir(parents=True, exist_ok=True)"
   ]
  },
  {
   "cell_type": "markdown",
   "metadata": {},
   "source": [
    "a dict with custom settings for each fruit you can put custom paramenter for the segmentation phase (segm) and for image division (divider)"
   ]
  },
  {
   "cell_type": "code",
   "execution_count": 28,
   "metadata": {},
   "outputs": [],
   "source": [
    "settings = {\"Chili Pepper\":{\n",
    "                \"divider\": {\"min_area\": 0.1},\n",
    "            },\n",
    "            \"Apple\": {\n",
    "                \"segm\": {\"floodfill\": False},\n",
    "            },\n",
    "            \"default\": {\n",
    "                \"divider\": {\"min_area\": .3},\n",
    "            },\n",
    "           }"
   ]
  },
  {
   "cell_type": "code",
   "execution_count": 29,
   "metadata": {},
   "outputs": [],
   "source": [
    "def classic_segmenter(img_path, **setting):\n",
    "    img = open_cv_image(img_path)\n",
    "    mask = ClassicSegmentation(img, **setting.get('segm', {})).get_mask()\n",
    "    imgs = ImageDivider(img, mask, **setting.get('divider', {})).images()\n",
    "    return imgs"
   ]
  },
  {
   "cell_type": "code",
   "execution_count": 30,
   "metadata": {},
   "outputs": [],
   "source": [
    "def process_folder_class(folder, **settings):\n",
    "    n_images = 0\n",
    "    folder_save = root_folder_save_class/folder.name\n",
    "    folder_save.mkdir(parents=True, exist_ok=True)\n",
    "    setting = settings.get(folder.name, settings.get(\"default\", {}))\n",
    "    for img_path in folder.glob(f\"*{ext}\"):\n",
    "        for i, fruit_img in enumerate(classic_segmenter(img_path, **setting)):\n",
    "            n_images += 1\n",
    "            path = folder_save/f\"{img_path.name[:-4]}_{i}{ext_save}\"\n",
    "            save_cv_image(str(path), fruit_img)\n",
    "    return n_images"
   ]
  },
  {
   "cell_type": "code",
   "execution_count": 31,
   "metadata": {},
   "outputs": [],
   "source": [
    "def process_folder_segm(folder, **settings):\n",
    "    setting = settings.get(folder.name, settings.get(\"default\", {}))\n",
    "    for img_path in folder.glob(f\"*{ext}\"):\n",
    "        mask = ClassicSegmentation(open_cv_image(img_path), **setting.get('segm', {})).get_mask()\n",
    "        mask_path = segm_labels/f\"{img_path.name[:-4]}.{ext_save}\"\n",
    "        save_cv_image(str(mask_path), mask)\n",
    "        # copy the original image in the dataset after converting format\n",
    "        new_img_path = str(segm_images/f\"{img_path.name[:-4]}{ext_save}\")\n",
    "        save_cv_image(new_img_path, cv2.imread(str(img_path)))\n",
    "    return n_images"
   ]
  },
  {
   "cell_type": "code",
   "execution_count": 32,
   "metadata": {},
   "outputs": [
    {
     "name": "stdout",
     "output_type": "stream",
     "text": [
      "Done Classfication processing for ../Dataset/Zucchini saved:  100\n",
      "Done segmentation processing for ../Dataset/Zucchini\n",
      "Done Classfication processing for ../Dataset/Kiwifruit saved:  100\n",
      "Done segmentation processing for ../Dataset/Kiwifruit\n",
      "Done Classfication processing for ../Dataset/Lime saved:  106\n",
      "Done segmentation processing for ../Dataset/Lime\n",
      "Done Classfication processing for ../Dataset/Apple saved:  102\n",
      "Done segmentation processing for ../Dataset/Apple\n",
      "Done Classfication processing for ../Dataset/Cucumber saved:  100\n",
      "Done segmentation processing for ../Dataset/Cucumber\n",
      "Done Classfication processing for ../Dataset/Plum saved:  146\n",
      "Done segmentation processing for ../Dataset/Plum\n",
      "Done Classfication processing for ../Dataset/Peach saved:  105\n",
      "Done segmentation processing for ../Dataset/Peach\n",
      "Done Classfication processing for ../Dataset/Cherry saved:  97\n",
      "Done segmentation processing for ../Dataset/Cherry\n",
      "Done Classfication processing for ../Dataset/Potato saved:  104\n",
      "Done segmentation processing for ../Dataset/Potato\n",
      "Done Classfication processing for ../Dataset/Apricot saved:  102\n",
      "Done segmentation processing for ../Dataset/Apricot\n",
      "Done Classfication processing for ../Dataset/Tomato saved:  104\n",
      "Done segmentation processing for ../Dataset/Tomato\n",
      "Done Classfication processing for ../Dataset/Cherry Tomato saved:  100\n",
      "Done segmentation processing for ../Dataset/Cherry Tomato\n",
      "Done Classfication processing for ../Dataset/Banana saved:  100\n",
      "Done segmentation processing for ../Dataset/Banana\n",
      "Done Classfication processing for ../Dataset/Carrot saved:  128\n",
      "Done segmentation processing for ../Dataset/Carrot\n",
      "Done Classfication processing for ../Dataset/Mushroom saved:  119\n",
      "Done segmentation processing for ../Dataset/Mushroom\n",
      "Done Classfication processing for ../Dataset/Chili Pepper saved:  114\n",
      "Done segmentation processing for ../Dataset/Chili Pepper\n",
      "Done Classfication processing for ../Dataset/Onion saved:  92\n",
      "Done segmentation processing for ../Dataset/Onion\n",
      "Done Classfication processing for ../Dataset/Pear saved:  106\n",
      "Done segmentation processing for ../Dataset/Pear\n"
     ]
    }
   ],
   "source": [
    "for f in root_folder.iterdir():\n",
    "    n_images = process_folder_class(f, **settings)\n",
    "    print(\"Done Classfication processing for\", f, \"saved: \", n_images)\n",
    "    process_folder_segm(f, **settings)\n",
    "    print(\"Done segmentation processing for\", f)"
   ]
  },
  {
   "cell_type": "markdown",
   "metadata": {},
   "source": [
    "Previous system divided each fruit in train/valid/test datasets, now it classification divides on all dataset"
   ]
  }
 ],
 "metadata": {
  "kernelspec": {
   "display_name": "Python 3",
   "language": "python",
   "name": "python3"
  },
  "language_info": {
   "codemirror_mode": {
    "name": "ipython",
    "version": 3
   },
   "file_extension": ".py",
   "mimetype": "text/x-python",
   "name": "python",
   "nbconvert_exporter": "python",
   "pygments_lexer": "ipython3",
   "version": "3.7.4"
  }
 },
 "nbformat": 4,
 "nbformat_minor": 4
}
