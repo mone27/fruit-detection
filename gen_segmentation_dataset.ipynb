{
 "cells": [
  {
   "cell_type": "code",
   "execution_count": 1,
   "metadata": {},
   "outputs": [],
   "source": [
    "%reload_ext autoreload\n",
    "%autoreload 2"
   ]
  },
  {
   "cell_type": "code",
   "execution_count": 2,
   "metadata": {},
   "outputs": [],
   "source": [
    "from pathlib import Path\n",
    "import cv2\n",
    "import matplotlib.pyplot as plt\n",
    "from classic_segmentation import ClassicSegmentation\n",
    "from utils import save_image, random_label_probability\n",
    "import random"
   ]
  },
  {
   "cell_type": "code",
   "execution_count": 3,
   "metadata": {},
   "outputs": [],
   "source": [
    "\n",
    "all_folders = ['Cetriolo', 'Peperoncino', 'Patata', 'pomodoro_ciliegino', 'Banana', 'Carota', 'Albicocca',\n",
    "              'Kiwi', 'Zucchino', 'Pera', 'Mela', 'Lime', 'Champignon',\n",
    "              'Prugna rossa', 'Pesca', 'Cipolla', 'pomodoro_sanmarzano']\n",
    "root_folder = Path(\"./Dataset\")\n",
    "ext = '.tif'  # source file extention\n",
    "ext_save = '.png'  # save file extention\n",
    "root_folder_save = Path('dataset_segmentation_small')\n",
    "#label_folder_test = \"test\"\n",
    "#label_folder_train = \"train\"\n",
    "label_folder_train = label_folder_test = \"\"\n",
    "random.seed(10)"
   ]
  },
  {
   "cell_type": "markdown",
   "metadata": {},
   "source": [
    "idea: per evitare che nei funghi ci siano perti del contorno di altri frutti dopo aver tagliato il frutto ritrovare i contorni e tenere solo quello più grande"
   ]
  },
  {
   "cell_type": "code",
   "execution_count": 5,
   "metadata": {},
   "outputs": [],
   "source": [
    "def save_folder(folder, verbose=False): \n",
    "    image_counter = 0\n",
    "    images = []\n",
    "    masks = []\n",
    "    for img_path in (root_folder / folder).glob(f\"*{ext}\"):\n",
    "        seg_img = ClassicSegmentation(img_path)\n",
    "        images += seg_img.small_images\n",
    "        masks += seg_img.small_masks\n",
    "    labels = random_label_probability((\"train\", \"valid\", \"final_test\"), (0.7, 0.2, 0.1), len(images))\n",
    "    for image, mask, label in zip(images, masks, labels):\n",
    "        img_path = root_folder_save / \"images\" / label / f\"{folder}_{image_counter}{ext_save}\"\n",
    "        mask_path = root_folder_save  / \"labels\" / f\"{folder}_{image_counter}{ext_save}\"\n",
    "        \n",
    "        img_path.parent.mkdir(parents=True, exist_ok=True) \n",
    "        mask_path.parent.mkdir(parents=True, exist_ok=True)\n",
    "        save_image(img_path, image, verbose)\n",
    "        save_image(mask_path, mask, verbose)\n",
    "        \n",
    "        image_counter += 1\n",
    "        \n",
    "    print(\"saved folder: \",folder)\n",
    "                \n",
    "\n",
    "def save_all():\n",
    "    for folder in all_folders:\n",
    "        save_folder(folder)"
   ]
  },
  {
   "cell_type": "code",
   "execution_count": 6,
   "metadata": {},
   "outputs": [
    {
     "name": "stdout",
     "output_type": "stream",
     "text": [
      "saved folder:  Cetriolo\n",
      "saved folder:  Peperoncino\n",
      "saved folder:  Patata\n",
      "saved folder:  pomodoro_ciliegino\n",
      "saved folder:  Banana\n",
      "saved folder:  Carota\n",
      "saved folder:  Albicocca\n",
      "saved folder:  Kiwi\n",
      "saved folder:  Zucchino\n",
      "saved folder:  Pera\n",
      "saved folder:  Mela\n",
      "saved folder:  Lime\n",
      "saved folder:  Champignon\n",
      "saved folder:  Prugna rossa\n",
      "saved folder:  Pesca\n",
      "saved folder:  Cipolla\n",
      "saved folder:  pomodoro_sanmarzano\n"
     ]
    }
   ],
   "source": [
    "save_all()"
   ]
  },
  {
   "cell_type": "code",
   "execution_count": 4,
   "metadata": {},
   "outputs": [],
   "source": [
    "# to clean generated dataset for function development: use with CAUTION!\n",
    "#!rm -r $root_folder_save"
   ]
  },
  {
   "cell_type": "code",
   "execution_count": null,
   "metadata": {},
   "outputs": [],
   "source": []
  }
 ],
 "metadata": {
  "kernelspec": {
   "display_name": "Python 3",
   "language": "python",
   "name": "python3"
  },
  "language_info": {
   "codemirror_mode": {
    "name": "ipython",
    "version": 3
   },
   "file_extension": ".py",
   "mimetype": "text/x-python",
   "name": "python",
   "nbconvert_exporter": "python",
   "pygments_lexer": "ipython3",
   "version": "3.7.1"
  }
 },
 "nbformat": 4,
 "nbformat_minor": 2
}
