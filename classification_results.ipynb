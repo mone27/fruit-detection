{
 "cells": [
  {
   "cell_type": "code",
   "execution_count": 2,
   "metadata": {},
   "outputs": [],
   "source": [
    "%reload_ext autoreload\n",
    "%autoreload 2\n",
    "%matplotlib inline"
   ]
  },
  {
   "cell_type": "code",
   "execution_count": 3,
   "metadata": {},
   "outputs": [
    {
     "ename": "ModuleNotFoundError",
     "evalue": "No module named 'seaborn'",
     "output_type": "error",
     "traceback": [
      "\u001b[0;31m---------------------------------------------------------------------------\u001b[0m",
      "\u001b[0;31mModuleNotFoundError\u001b[0m                       Traceback (most recent call last)",
      "\u001b[0;32m<ipython-input-3-4c9cb8497e32>\u001b[0m in \u001b[0;36m<module>\u001b[0;34m\u001b[0m\n\u001b[1;32m      2\u001b[0m \u001b[0;32mfrom\u001b[0m \u001b[0mfastai\u001b[0m\u001b[0;34m.\u001b[0m\u001b[0mvision\u001b[0m \u001b[0;32mimport\u001b[0m \u001b[0;34m*\u001b[0m\u001b[0;34m\u001b[0m\u001b[0;34m\u001b[0m\u001b[0m\n\u001b[1;32m      3\u001b[0m \u001b[0;32mimport\u001b[0m \u001b[0mpandas\u001b[0m \u001b[0;32mas\u001b[0m \u001b[0mpd\u001b[0m\u001b[0;34m\u001b[0m\u001b[0;34m\u001b[0m\u001b[0m\n\u001b[0;32m----> 4\u001b[0;31m \u001b[0;32mimport\u001b[0m \u001b[0mseaborn\u001b[0m \u001b[0;32mas\u001b[0m \u001b[0msns\u001b[0m\u001b[0;34m\u001b[0m\u001b[0;34m\u001b[0m\u001b[0m\n\u001b[0m\u001b[1;32m      5\u001b[0m \u001b[0;32mimport\u001b[0m \u001b[0mmatplotlib\u001b[0m\u001b[0;34m.\u001b[0m\u001b[0mpyplot\u001b[0m \u001b[0;32mas\u001b[0m \u001b[0mplt\u001b[0m\u001b[0;34m\u001b[0m\u001b[0;34m\u001b[0m\u001b[0m\n\u001b[1;32m      6\u001b[0m \u001b[0msns\u001b[0m\u001b[0;34m.\u001b[0m\u001b[0mset\u001b[0m\u001b[0;34m(\u001b[0m\u001b[0;34m)\u001b[0m\u001b[0;34m\u001b[0m\u001b[0;34m\u001b[0m\u001b[0m\n",
      "\u001b[0;31mModuleNotFoundError\u001b[0m: No module named 'seaborn'"
     ]
    }
   ],
   "source": [
    "import plotly_express as px\n",
    "from fastai.vision import *\n",
    "import pandas as pd\n",
    "import seaborn as sns\n",
    "import matplotlib.pyplot as plt\n",
    "sns.set()"
   ]
  },
  {
   "cell_type": "code",
   "execution_count": 3,
   "metadata": {},
   "outputs": [],
   "source": [
    "test_path = Path('dataset_classification_final_test')\n",
    "model_path = Path('dataset_classification/')"
   ]
  },
  {
   "cell_type": "code",
   "execution_count": 4,
   "metadata": {},
   "outputs": [],
   "source": [
    "#load learner exported using learn.export()\n",
    "learn = load_learner(model_path, test=ImageList.from_folder(test_path))"
   ]
  },
  {
   "cell_type": "code",
   "execution_count": 5,
   "metadata": {},
   "outputs": [],
   "source": [
    "Prediction = namedtuple('Prediction', ['path', 'pred_idx', 'pred_class', 'probability', 'misclassified'])\n",
    "def test_model_class(folder):   \n",
    "    result = []    \n",
    "    files_list = [files for files in folder.iterdir() if files.suffix == '.png']\n",
    "    for f in files_list:\n",
    "        misclass = False\n",
    "        img = open_image(f)\n",
    "        pred_class,pred_idx,outputs = learn.predict(img)\n",
    "        if not (str(pred_class) == folder.name):\n",
    "            print(f\"Error! predicted class: '{pred_class}' vs actual class: '{folder.name}'\")\n",
    "            print(\"\\t\",f)\n",
    "            misclass = True\n",
    "        result.append((f, int(pred_idx), str(pred_class), outputs, misclass))\n",
    "        \n",
    "    return result"
   ]
  },
  {
   "cell_type": "code",
   "execution_count": 69,
   "metadata": {},
   "outputs": [],
   "source": [
    "def get_results_class(folder_class):\n",
    "    result = []    \n",
    "    files_list = get_image_files(folder_class)\n",
    "    for f in files_list:\n",
    "        misclass = False\n",
    "        actual_class = folder_class.name\n",
    "        img = open_image(f)\n",
    "        pred_class,pred_idx,outputs = learn.predict(img)\n",
    "        if not (str(pred_class) == actual_class):\n",
    "            print(f\"Error! predicted class: '{pred_class}' vs actual class: '{actual_class}'\")\n",
    "            print(\"\\t\",f)\n",
    "            misclass = True\n",
    "# tuple legend: path, actual_class, pred_class, misclass, pred_idx, prob_all_classes        \n",
    "        result.append([str(f), actual_class, str(pred_class), misclass, int(pred_idx)]+list(outputs.numpy()))\n",
    "        \n",
    "    return result"
   ]
  },
  {
   "cell_type": "code",
   "execution_count": 70,
   "metadata": {},
   "outputs": [],
   "source": [
    "#get_results_class(test_path / 'Albicocca')"
   ]
  },
  {
   "cell_type": "code",
   "execution_count": 73,
   "metadata": {},
   "outputs": [],
   "source": [
    "def get_results():\n",
    "    folders_list = sorted([folders for folders in test_path.iterdir()])\n",
    "    columns = ['path', 'actual_class', 'pred_class', 'misclass', 'pred_idx'] + learn.data.classes\n",
    "    results = pd.DataFrame(columns=columns)\n",
    "    for f in folders_list:\n",
    "        result = get_results_class(f)\n",
    "        result = pd.DataFrame(result, columns=columns)\n",
    "        results = pd.concat((results, result), ignore_index=True)\n",
    "    results.set_index('actual_class', inplace=True)\n",
    "    return results"
   ]
  },
  {
   "cell_type": "code",
   "execution_count": 74,
   "metadata": {},
   "outputs": [
    {
     "name": "stdout",
     "output_type": "stream",
     "text": [
      "Error! predicted class: 'Prugna rossa' vs actual class: 'Pesca'\n",
      "\t dataset_classification_final_test/Pesca/Pesca_21.png\n",
      "Error! predicted class: 'Prugna rossa' vs actual class: 'Pesca'\n",
      "\t dataset_classification_final_test/Pesca/Pesca_87.png\n",
      "Error! predicted class: 'Patata' vs actual class: 'Pesca'\n",
      "\t dataset_classification_final_test/Pesca/Pesca_79.png\n",
      "Error! predicted class: 'Patata' vs actual class: 'Pesca'\n",
      "\t dataset_classification_final_test/Pesca/Pesca_71.png\n",
      "Error! predicted class: 'Patata' vs actual class: 'Pesca'\n",
      "\t dataset_classification_final_test/Pesca/Pesca_54.png\n"
     ]
    }
   ],
   "source": [
    "results = get_results()"
   ]
  },
  {
   "cell_type": "code",
   "execution_count": 83,
   "metadata": {},
   "outputs": [
    {
     "data": {
      "text/plain": [
       "path                    object\n",
       "pred_class              object\n",
       "misclass                object\n",
       "pred_idx                object\n",
       "Albicocca              float64\n",
       "Banana                 float64\n",
       "Carota                 float64\n",
       "Cetriolo               float64\n",
       "Champignon             float64\n",
       "Ciliegia               float64\n",
       "Cipolla                float64\n",
       "Kiwi                   float64\n",
       "Lime                   float64\n",
       "Mela                   float64\n",
       "Patata                 float64\n",
       "Peperoncino            float64\n",
       "Pera                   float64\n",
       "Pesca                  float64\n",
       "Prugna rossa           float64\n",
       "Zucchino               float64\n",
       "pomodoro_ciliegino     float64\n",
       "pomodoro_sanmarzano    float64\n",
       "dtype: object"
      ]
     },
     "execution_count": 83,
     "metadata": {},
     "output_type": "execute_result"
    }
   ],
   "source": [
    "results.dtypes"
   ]
  },
  {
   "cell_type": "code",
   "execution_count": 86,
   "metadata": {},
   "outputs": [],
   "source": [
    "def pred_hist(results, f_class):\n",
    "    \"\"\"TODO, warning use a reference to global learn object in order to get class idx\"\"\"\n",
    "    result_class = results.loc[f_class]\n",
    "    fig, ax = plt.subplots(figsize=(12,8))\n",
    "    sns.distplot(result_class[result_class.misclass == True][f_class], kde=False, label=\"Misclassified\", color='red', bins=8, ax=ax)\n",
    "    sns.distplot(result_class[result_class.misclass == False][f_class], kde=False, label=\"Correclty classified\", color='blue', bins=8, ax=ax)\n",
    "    plt.legend()\n",
    "    plt.title('')"
   ]
  },
  {
   "cell_type": "code",
   "execution_count": 87,
   "metadata": {},
   "outputs": [
    {
     "data": {
      "image/png": "[encoded data removed]",
      "text/plain": [
       "<Figure size 864x576 with 1 Axes>"
      ]
     },
     "metadata": {},
     "output_type": "display_data"
    }
   ],
   "source": [
    "pred_hist(results, 'Pesca')"
   ]
  },
  {
   "cell_type": "code",
   "execution_count": 127,
   "metadata": {},
   "outputs": [],
   "source": [
    "def pred_plot(results, f_class):\n",
    "    result_class = results.loc[f_class]\n",
    "    prob_class = result_class['Albicocca':].mean()\n",
    "    sns.barplot(x=prob_class.index, y=prob_class)\n",
    "    plt.xticks(rotation='vertical')\n",
    "    plt.title(\"Mean probability for: \"+f_class)"
   ]
  },
  {
   "cell_type": "code",
   "execution_count": 129,
   "metadata": {},
   "outputs": [
    {
     "data": {
      "image/png": "[encoded data removed]",
      "text/plain": [
       "<Figure size 432x288 with 1 Axes>"
      ]
     },
     "metadata": {},
     "output_type": "display_data"
    }
   ],
   "source": [
    "pred_plot(results, 'Cetriolo')"
   ]
  },
  {
   "cell_type": "code",
   "execution_count": 99,
   "metadata": {},
   "outputs": [],
   "source": [
    "d = _"
   ]
  },
  {
   "cell_type": "code",
   "execution_count": 100,
   "metadata": {},
   "outputs": [
    {
     "data": {
      "text/plain": [
       "dtype('float64')"
      ]
     },
     "execution_count": 100,
     "metadata": {},
     "output_type": "execute_result"
    }
   ],
   "source": [
    "d.dtypes"
   ]
  },
  {
   "cell_type": "code",
   "execution_count": 101,
   "metadata": {},
   "outputs": [
    {
     "data": {
      "text/plain": [
       "pandas.core.series.Series"
      ]
     },
     "execution_count": 101,
     "metadata": {},
     "output_type": "execute_result"
    }
   ],
   "source": [
    "type(d)"
   ]
  },
  {
   "cell_type": "code",
   "execution_count": null,
   "metadata": {},
   "outputs": [],
   "source": []
  }
 ],
 "metadata": {
  "kernelspec": {
   "display_name": "Python 3",
   "language": "python",
   "name": "python3"
  },
  "language_info": {
   "codemirror_mode": {
    "name": "ipython",
    "version": 3
   },
   "file_extension": ".py",
   "mimetype": "text/x-python",
   "name": "python",
   "nbconvert_exporter": "python",
   "pygments_lexer": "ipython3",
   "version": "3.7.4"
  }
 },
 "nbformat": 4,
 "nbformat_minor": 4
}
